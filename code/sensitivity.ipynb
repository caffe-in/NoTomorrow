{
 "cells": [
  {
   "cell_type": "code",
   "execution_count": 29,
   "metadata": {},
   "outputs": [],
   "source": [
    "# 模型灵敏度分析\n",
    "from SALib.sample import saltelli\n",
    "from SALib.analyze import sobol\n",
    "from SALib.test_functions import Ishigami\n",
    "import numpy as np\n",
    "import math\n",
    "\n",
    "# 定义模型输入\n",
    "problem = {\n",
    "    'num_vars': 3,\n",
    "    'names': ['tem', 'humi', 'time'],\n",
    "    'bounds': [[0, 50],\n",
    "               [0, 5],\n",
    "               [0, 30]]\n",
    "}"
   ]
  },
  {
   "cell_type": "code",
   "execution_count": 42,
   "metadata": {},
   "outputs": [],
   "source": [
    "def temA(X):\n",
    "    if X > 0 and X < 25:\n",
    "        return (-0.00729 * (X - 25)* (X - 25) + 81.9401)\n",
    "    else:\n",
    "        return (-0.0920 * (X - 25)* (X - 25) + 81.9401)\n",
    "\n",
    "def temB(X):\n",
    "    if X > 0 and X < 29.8:\n",
    "        return (-0.00889 * (X - 29.8)* (X - 29.8) + 48.8231)\n",
    "    else:\n",
    "        return (-1086 * (X - 29.8)* (X - 29.8) + 48.8231)"
   ]
  },
  {
   "cell_type": "code",
   "execution_count": 43,
   "metadata": {},
   "outputs": [],
   "source": [
    "def EA(X):\n",
    "    if X < 0.45 and X > 0:\n",
    "        return 1.8794 * X\n",
    "    elif X >= 0.45 and X < 3.46:\n",
    "        return 0.8638 * X\n",
    "    else:\n",
    "        return -0.6754 * X\n",
    "\n",
    "def EB(X):\n",
    "    if X > 0 and X < 0.47:\n",
    "        return 0.67886 * X\n",
    "    elif X >= 0.47 and X < 2.55:\n",
    "        return 1.358 * X\n",
    "    else:\n",
    "        return -0.3602 * X"
   ]
  },
  {
   "cell_type": "code",
   "execution_count": 44,
   "metadata": {},
   "outputs": [],
   "source": [
    "import math\n",
    "def pA(X):\n",
    "    return 2.581 * math.pow(10, -6) * math.pow(X, 6) - 2.544 * math.pow(10, -4) * math.pow(X, 5) + 9.348 * math.pow(10, -3) * math.pow(X, 4) - 0.153 * math.pow(X, 3) + 1.001 * math.pow(X, 2) - 1.57 * X + 14.58\n",
    "\n",
    "def pB(X):\n",
    "    return 7.297 * math.pow(10, -6) * math.pow(X, 6) - 1.631 * math.pow(10, -4) * math.pow(X, 5) + 9.986 * math.pow(10, -3) * math.pow(X, 4) - 0.2468 * math.pow(X, 3) + 2.39 * math.pow(X, 2) - 5.09 * X + 18.18\n",
    " "
   ]
  },
  {
   "cell_type": "code",
   "execution_count": 52,
   "metadata": {},
   "outputs": [
    {
     "name": "stdout",
     "output_type": "stream",
     "text": [
      "(80000, 3) (80000,)\n"
     ]
    },
    {
     "name": "stderr",
     "output_type": "stream",
     "text": [
      "The PostScript backend does not support transparency; partially transparent artists will be rendered opaque.\n",
      "The PostScript backend does not support transparency; partially transparent artists will be rendered opaque.\n"
     ]
    },
    {
     "name": "stdout",
     "output_type": "stream",
     "text": [
      "Parameter S1 S1_conf ST ST_conf\n",
      "tem 0.421808 0.018170 0.422337 0.012886\n",
      "humi 0.109576 0.008531 0.109690 0.003113\n",
      "time 0.467618 0.015614 0.468667 0.013899\n",
      "\n",
      "Parameter_1 Parameter_2 S2 S2_conf\n",
      "tem humi 0.000088 0.024577\n",
      "tem time 0.001249 0.031802\n",
      "humi time 0.000419 0.016096\n",
      "\n",
      "S1: [0.42180819 0.10957565 0.46761763]\n",
      "x1-x2: 8.809078713793717e-05\n",
      "x1-x3: 0.0012486444154824472\n",
      "x2-x3: 0.00041902350213735007\n"
     ]
    },
    {
     "data": {
      "image/png": "[encoded data removed]",
      "text/plain": [
       "<Figure size 432x288 with 1 Axes>"
      ]
     },
     "metadata": {
      "needs_background": "light"
     },
     "output_type": "display_data"
    }
   ],
   "source": [
    "\n",
    "def evaluate(X):\n",
    "    return np.array([temA(x[0]) + EA(x[1]) + pA(x[2]) for x in X])\n",
    "\t\n",
    "# 样本生成\n",
    "\n",
    "param_values = saltelli.sample(problem,10000)\n",
    "\n",
    "# 运行模型\n",
    "Y = evaluate(param_values)\n",
    "print(param_values.shape,Y.shape)\n",
    "Si = sobol.analyze(problem,Y,print_to_console=True)\n",
    "print()\n",
    "\n",
    "# 一阶灵敏度\n",
    "print('S1:', Si['S1']) \n",
    "\n",
    "# 二阶林敏度\n",
    "print(\"x1-x2:\", Si['S2'][0, 1])\n",
    "print(\"x1-x3:\", Si['S2'][0, 2])\n",
    "print(\"x2-x3:\", Si['S2'][1, 2])\n",
    "\n",
    "from SALib.plotting.bar import plot as barplot\n",
    "import matplotlib.pyplot as plot\n",
    "\n",
    "Si_df = Si.to_df()\n",
    "barplot(Si_df[0])\n",
    "plot.savefig(\"picture/sensitivity.eps\")\n",
    "plot.show()"
   ]
  },
  {
   "cell_type": "code",
   "execution_count": null,
   "metadata": {},
   "outputs": [],
   "source": []
  }
 ],
 "metadata": {
  "kernelspec": {
   "display_name": "tf",
   "language": "python",
   "name": "tf"
  },
  "language_info": {
   "codemirror_mode": {
    "name": "ipython",
    "version": 3
   },
   "file_extension": ".py",
   "mimetype": "text/x-python",
   "name": "python",
   "nbconvert_exporter": "python",
   "pygments_lexer": "ipython3",
   "version": "3.7.6"
  }
 },
 "nbformat": 4,
 "nbformat_minor": 4
}

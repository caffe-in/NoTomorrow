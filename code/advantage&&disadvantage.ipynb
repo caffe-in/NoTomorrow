{
 "cells": [
  {
   "cell_type": "code",
   "execution_count": 2,
   "metadata": {},
   "outputs": [],
   "source": [
    "import numpy as np\n",
    "import pandas as pd\n",
    "from sklearn import preprocessing \n",
    "import itertools"
   ]
  },
  {
   "cell_type": "code",
   "execution_count": 325,
   "metadata": {},
   "outputs": [],
   "source": [
    "#菌种的丰度计算\n",
    "#hypha_weight_path = \"hypha_weight/hypha_weight_3.csv\"\n",
    "#hypha_weight = pd.read_csv(hypha_weight_path, header = None)\n",
    "#hypha_weight = hypha_weight.values\n",
    "hypha_weight  = np.array([[70.2744],\n",
    "                          [89.3571]])"
   ]
  },
  {
   "cell_type": "code",
   "execution_count": 326,
   "metadata": {},
   "outputs": [
    {
     "name": "stdout",
     "output_type": "stream",
     "text": [
      "159.63150000000002\n"
     ]
    },
    {
     "data": {
      "text/plain": [
       "[array([0.4402289]), array([0.5597711])]"
      ]
     },
     "execution_count": 326,
     "metadata": {},
     "output_type": "execute_result"
    }
   ],
   "source": [
    "summ = hypha_weight.sum()\n",
    "num = np.array(hypha_weight)\n",
    "print(summ)\n",
    "p = []\n",
    "for hw in hypha_weight:\n",
    "    p.append(hw/summ)\n",
    "p"
   ]
  },
  {
   "cell_type": "code",
   "execution_count": 327,
   "metadata": {},
   "outputs": [],
   "source": [
    "#对于特征进行归一化处理\n",
    "hypha_distance_path = \"hypha_distance/hypha_distance_4.csv\"\n",
    "hypha_distance = pd.read_csv(hypha_distance_path)\n",
    "min_max_scaler = preprocessing.MinMaxScaler()  \n",
    "traix_origin = hypha_distance.iloc[:,2:]\n",
    "traix_scale = traix_origin.apply(lambda x: (x - np.min(x)) / (np.max(x) - np.min(x))) \n"
   ]
  },
  {
   "cell_type": "code",
   "execution_count": 328,
   "metadata": {},
   "outputs": [
    {
     "data": {
      "text/plain": [
       "array([0.85364961])"
      ]
     },
     "execution_count": 328,
     "metadata": {},
     "output_type": "execute_result"
    }
   ],
   "source": [
    "sum = 0\n",
    "for i, j in itertools.combinations(traix_scale.index, 2):\n",
    "    d_ij = np.linalg.norm(traix_scale.loc[i] - traix_scale.loc[j]) \n",
    "    sum += d_ij * p[i] * p[j]\n",
    "sum"
   ]
  },
  {
   "cell_type": "code",
   "execution_count": 342,
   "metadata": {},
   "outputs": [
    {
     "name": "stdout",
     "output_type": "stream",
     "text": [
      "1.7888896000311354\n",
      "1.7010403849552072\n"
     ]
    }
   ],
   "source": [
    "a = [0.80900544,\n",
    "0.81197518,\n",
    "0.78673897,\n",
    "0.80990439,\n",
    "0.78193937,\n",
    "]\n",
    "out = np.linalg.norm(a)\n",
    "print(out)\n",
    "b = [0.74480902,\n",
    "0.8208312,\n",
    "0.75868921,\n",
    "0.76364961,\n",
    "0.71152232,\n",
    "]\n",
    "out = np.linalg.norm(b)\n",
    "print(out)"
   ]
  },
  {
   "cell_type": "code",
   "execution_count": null,
   "metadata": {},
   "outputs": [],
   "source": []
  }
 ],
 "metadata": {
  "kernelspec": {
   "display_name": "tf",
   "language": "python",
   "name": "tf"
  },
  "language_info": {
   "codemirror_mode": {
    "name": "ipython",
    "version": 3
   },
   "file_extension": ".py",
   "mimetype": "text/x-python",
   "name": "python",
   "nbconvert_exporter": "python",
   "pygments_lexer": "ipython3",
   "version": "3.7.6"
  }
 },
 "nbformat": 4,
 "nbformat_minor": 4
}
